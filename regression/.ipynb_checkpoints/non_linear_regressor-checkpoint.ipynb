{
 "cells": [
  {
   "cell_type": "code",
   "execution_count": 29,
   "metadata": {},
   "outputs": [],
   "source": [
    "import pandas as pd\n",
    "import matplotlib.pyplot as plt\n",
    "from sklearn.model_selection import train_test_split\n",
    "from sklearn.linear_model import LinearRegression, Ridge, Lasso, SGDRegressor\n",
    "from sklearn.metrics import mean_squared_error, r2_score\n",
    "from sklearn.neighbors import KNeighborsRegressor\n",
    "from sklearn.preprocessing import StandardScaler, MinMaxScaler, PolynomialFeatures\n",
    "import math"
   ]
  },
  {
   "cell_type": "code",
   "execution_count": 2,
   "metadata": {},
   "outputs": [
    {
     "data": {
      "text/html": [
       "<div>\n",
       "<style scoped>\n",
       "    .dataframe tbody tr th:only-of-type {\n",
       "        vertical-align: middle;\n",
       "    }\n",
       "\n",
       "    .dataframe tbody tr th {\n",
       "        vertical-align: top;\n",
       "    }\n",
       "\n",
       "    .dataframe thead th {\n",
       "        text-align: right;\n",
       "    }\n",
       "</style>\n",
       "<table border=\"1\" class=\"dataframe\">\n",
       "  <thead>\n",
       "    <tr style=\"text-align: right;\">\n",
       "      <th></th>\n",
       "      <th>Unnamed: 0</th>\n",
       "      <th>CRIM</th>\n",
       "      <th>ZN</th>\n",
       "      <th>INDUS</th>\n",
       "      <th>CHAS</th>\n",
       "      <th>NOX</th>\n",
       "      <th>RM</th>\n",
       "      <th>AGE</th>\n",
       "      <th>DIS</th>\n",
       "      <th>RAD</th>\n",
       "      <th>TAX</th>\n",
       "      <th>PTRATIO</th>\n",
       "      <th>B</th>\n",
       "      <th>LSTAT</th>\n",
       "      <th>target</th>\n",
       "    </tr>\n",
       "  </thead>\n",
       "  <tbody>\n",
       "    <tr>\n",
       "      <th>0</th>\n",
       "      <td>0</td>\n",
       "      <td>0.00632</td>\n",
       "      <td>18.0</td>\n",
       "      <td>2.31</td>\n",
       "      <td>0</td>\n",
       "      <td>0.538</td>\n",
       "      <td>6.575</td>\n",
       "      <td>65.2</td>\n",
       "      <td>4.0900</td>\n",
       "      <td>1</td>\n",
       "      <td>296</td>\n",
       "      <td>15.3</td>\n",
       "      <td>396.90</td>\n",
       "      <td>4.98</td>\n",
       "      <td>24.0</td>\n",
       "    </tr>\n",
       "    <tr>\n",
       "      <th>1</th>\n",
       "      <td>1</td>\n",
       "      <td>0.02731</td>\n",
       "      <td>0.0</td>\n",
       "      <td>7.07</td>\n",
       "      <td>0</td>\n",
       "      <td>0.469</td>\n",
       "      <td>6.421</td>\n",
       "      <td>78.9</td>\n",
       "      <td>4.9671</td>\n",
       "      <td>2</td>\n",
       "      <td>242</td>\n",
       "      <td>17.8</td>\n",
       "      <td>396.90</td>\n",
       "      <td>9.14</td>\n",
       "      <td>21.6</td>\n",
       "    </tr>\n",
       "    <tr>\n",
       "      <th>2</th>\n",
       "      <td>2</td>\n",
       "      <td>0.02729</td>\n",
       "      <td>0.0</td>\n",
       "      <td>7.07</td>\n",
       "      <td>0</td>\n",
       "      <td>0.469</td>\n",
       "      <td>7.185</td>\n",
       "      <td>61.1</td>\n",
       "      <td>4.9671</td>\n",
       "      <td>2</td>\n",
       "      <td>242</td>\n",
       "      <td>17.8</td>\n",
       "      <td>392.83</td>\n",
       "      <td>4.03</td>\n",
       "      <td>34.7</td>\n",
       "    </tr>\n",
       "    <tr>\n",
       "      <th>3</th>\n",
       "      <td>3</td>\n",
       "      <td>0.03237</td>\n",
       "      <td>0.0</td>\n",
       "      <td>2.18</td>\n",
       "      <td>0</td>\n",
       "      <td>0.458</td>\n",
       "      <td>6.998</td>\n",
       "      <td>45.8</td>\n",
       "      <td>6.0622</td>\n",
       "      <td>3</td>\n",
       "      <td>222</td>\n",
       "      <td>18.7</td>\n",
       "      <td>394.63</td>\n",
       "      <td>2.94</td>\n",
       "      <td>33.4</td>\n",
       "    </tr>\n",
       "    <tr>\n",
       "      <th>4</th>\n",
       "      <td>4</td>\n",
       "      <td>0.06905</td>\n",
       "      <td>0.0</td>\n",
       "      <td>2.18</td>\n",
       "      <td>0</td>\n",
       "      <td>0.458</td>\n",
       "      <td>7.147</td>\n",
       "      <td>54.2</td>\n",
       "      <td>6.0622</td>\n",
       "      <td>3</td>\n",
       "      <td>222</td>\n",
       "      <td>18.7</td>\n",
       "      <td>396.90</td>\n",
       "      <td>5.33</td>\n",
       "      <td>36.2</td>\n",
       "    </tr>\n",
       "  </tbody>\n",
       "</table>\n",
       "</div>"
      ],
      "text/plain": [
       "   Unnamed: 0     CRIM    ZN  INDUS  CHAS    NOX     RM   AGE     DIS  RAD  \\\n",
       "0           0  0.00632  18.0   2.31     0  0.538  6.575  65.2  4.0900    1   \n",
       "1           1  0.02731   0.0   7.07     0  0.469  6.421  78.9  4.9671    2   \n",
       "2           2  0.02729   0.0   7.07     0  0.469  7.185  61.1  4.9671    2   \n",
       "3           3  0.03237   0.0   2.18     0  0.458  6.998  45.8  6.0622    3   \n",
       "4           4  0.06905   0.0   2.18     0  0.458  7.147  54.2  6.0622    3   \n",
       "\n",
       "   TAX  PTRATIO       B  LSTAT  target  \n",
       "0  296     15.3  396.90   4.98    24.0  \n",
       "1  242     17.8  396.90   9.14    21.6  \n",
       "2  242     17.8  392.83   4.03    34.7  \n",
       "3  222     18.7  394.63   2.94    33.4  \n",
       "4  222     18.7  396.90   5.33    36.2  "
      ]
     },
     "execution_count": 2,
     "metadata": {},
     "output_type": "execute_result"
    }
   ],
   "source": [
    "data = pd.read_excel('D02_Boston.xlsx', engine='openpyxl')\n",
    "data.head()"
   ]
  },
  {
   "cell_type": "code",
   "execution_count": 3,
   "metadata": {},
   "outputs": [],
   "source": [
    "x = data.iloc[:,1:-1]\n",
    "y = data.iloc[:,-1]"
   ]
  },
  {
   "cell_type": "code",
   "execution_count": 4,
   "metadata": {},
   "outputs": [],
   "source": [
    "X_train, X_test, Y_train, Y_test = train_test_split(x,y,test_size = 200, random_state = 0)\n",
    "\n",
    "regressor = LinearRegression()\n",
    "regressor = regressor.fit(X_train, Y_train)#training the model"
   ]
  },
  {
   "cell_type": "code",
   "execution_count": 5,
   "metadata": {},
   "outputs": [],
   "source": [
    "#predictions\n",
    "Y_pred_train = regressor.predict(X_train)\n",
    "Y_pred_test = regressor.predict(X_test)"
   ]
  },
  {
   "cell_type": "code",
   "execution_count": 6,
   "metadata": {},
   "outputs": [],
   "source": [
    "#metrics\n",
    "mse_train = mean_squared_error(Y_train, Y_pred_train)\n",
    "rmse_train = math.sqrt(mse_train)\n",
    "r2_train = r2_score(Y_train, Y_pred_train)\n",
    "\n",
    "mse_test = mean_squared_error(Y_test, Y_pred_test)\n",
    "rmse_test = math.sqrt(mse_test)\n",
    "r2_test = r2_score(Y_test, Y_pred_test)"
   ]
  },
  {
   "cell_type": "code",
   "execution_count": 7,
   "metadata": {},
   "outputs": [
    {
     "name": "stdout",
     "output_type": "stream",
     "text": [
      "Metrics in train datased:\n",
      "rmse 4.4738 r2 0.7672 \n",
      "\n",
      "Metrics in test datased:\n",
      "rmse 5.0739 r2 0.6851 \n",
      "\n"
     ]
    }
   ],
   "source": [
    "print('Metrics in train datased:')\n",
    "print('rmse %.4f'%rmse_train, 'r2 %.4f'%r2_train,'\\n')\n",
    "print('Metrics in test datased:')\n",
    "print('rmse %.4f'%rmse_test, 'r2 %.4f'%r2_test,'\\n')"
   ]
  },
  {
   "cell_type": "code",
   "execution_count": 8,
   "metadata": {},
   "outputs": [
    {
     "data": {
      "text/plain": [
       "<matplotlib.collections.PathCollection at 0x1f2530dc630>"
      ]
     },
     "execution_count": 8,
     "metadata": {},
     "output_type": "execute_result"
    },
    {
     "data": {
      "image/png": "[encoded data removed]",
      "text/plain": [
       "<Figure size 432x288 with 1 Axes>"
      ]
     },
     "metadata": {
      "needs_background": "light"
     },
     "output_type": "display_data"
    }
   ],
   "source": [
    "plt.scatter(x = Y_test, y = Y_pred_test)"
   ]
  },
  {
   "cell_type": "code",
   "execution_count": 9,
   "metadata": {},
   "outputs": [],
   "source": [
    "#adjusting the scale of attributes\n",
    "transformer = StandardScaler()\n",
    "transformer.fit(X_train)\n",
    "X_train = transformer.transform(X_train)\n",
    "X_test = transformer.transform(X_test)"
   ]
  },
  {
   "cell_type": "code",
   "execution_count": 10,
   "metadata": {},
   "outputs": [
    {
     "name": "stdout",
     "output_type": "stream",
     "text": [
      " POLYNOMIAL REGRESSOR \n",
      " \n",
      " K     RMSE TRAIN     R2 TRAIN    RMSE TEST    R2 TEST\n",
      "---    ----------     --------    ---------    -------\n",
      "  1       4.4738       0.7672       5.0739       0.6851\n",
      "  2       1.9288       0.9567       4.1688       0.7874\n",
      "  3       0.0000       1.0000      46.7599     -25.7434\n",
      "  4       0.0000       1.0000      23.1345      -5.5462\n",
      "  5       0.0000       1.0000     231.6847    -655.5440\n"
     ]
    }
   ],
   "source": [
    "#using polynomial regressor \n",
    "\n",
    "print(' POLYNOMIAL REGRESSOR \\n ')\n",
    "print(' K     RMSE TRAIN     R2 TRAIN    RMSE TEST    R2 TEST')\n",
    "print('---    ----------     --------    ---------    -------')\n",
    "\n",
    "for k in range(1,6):\n",
    "    polyFeat = PolynomialFeatures(degree = k)\n",
    "    \n",
    "    polyFeat = polyFeat.fit(X_train)\n",
    "    X_train_poly = polyFeat.transform(X_train)\n",
    "    X_test_poly = polyFeat.transform(X_test)\n",
    "    \n",
    "    regressor = LinearRegression()\n",
    "    regressor = regressor.fit(X_train_poly, Y_train)#training the model\n",
    "    \n",
    "    Y_pred_train = regressor.predict(X_train_poly)\n",
    "    Y_pred_test = regressor.predict(X_test_poly)\n",
    "    \n",
    "    #train\n",
    "    mse_train = mean_squared_error(Y_train, Y_pred_train)\n",
    "    rmse_train = math.sqrt(mse_train)\n",
    "    r2_train = r2_score(Y_train, Y_pred_train)\n",
    "    \n",
    "    #test\n",
    "    mse_test = mean_squared_error(Y_test, Y_pred_test)\n",
    "    rmse_test = math.sqrt(mse_test)\n",
    "    r2_test = r2_score(Y_test, Y_pred_test)\n",
    "    \n",
    "    print('%3d %12.4f %12.4f %12.4f %12.4f' %(k, rmse_train, r2_train, rmse_test, r2_test))"
   ]
  },
  {
   "cell_type": "code",
   "execution_count": 21,
   "metadata": {},
   "outputs": [
    {
     "name": "stdout",
     "output_type": "stream",
     "text": [
      " POLYNOMIAL REGRESSOR WITH RIDGE REGULARIZER \n",
      " \n",
      " K     RMSE TRAIN     R2 TRAIN    RMSE TEST    R2 TEST\n",
      "---    ----------     --------    ---------    -------\n",
      "  1       4.6244       0.7513       5.1702       0.6731\n",
      "  2       2.6151       0.9205       3.9355       0.8106\n",
      "  3       1.7037       0.9662       3.6518       0.8369\n"
     ]
    }
   ],
   "source": [
    "#using polynomial regressor with ridge regularizer\n",
    "\n",
    "print(' POLYNOMIAL REGRESSOR WITH RIDGE REGULARIZER \\n ')\n",
    "print(' K     RMSE TRAIN     R2 TRAIN    RMSE TEST    R2 TEST')\n",
    "print('---    ----------     --------    ---------    -------')\n",
    "\n",
    "for k in range(1,4):\n",
    "    polyFeat = PolynomialFeatures(degree = k)\n",
    "    \n",
    "    polyFeat = polyFeat.fit(X_train)\n",
    "    X_train_poly = polyFeat.transform(X_train)\n",
    "    X_test_poly = polyFeat.transform(X_test)\n",
    "    \n",
    "    regressor_ridge = Ridge(alpha = 50.0)\n",
    "    regressor_ridge = regressor_ridge.fit(X_train_poly, Y_train)#training the model\n",
    "    \n",
    "    Y_pred_train = regressor_ridge.predict(X_train_poly)\n",
    "    Y_pred_test = regressor_ridge.predict(X_test_poly)\n",
    "    \n",
    "    #train\n",
    "    mse_train = mean_squared_error(Y_train, Y_pred_train)\n",
    "    rmse_train = math.sqrt(mse_train)\n",
    "    r2_train = r2_score(Y_train, Y_pred_train)\n",
    "    \n",
    "    #test\n",
    "    mse_test = mean_squared_error(Y_test, Y_pred_test)\n",
    "    rmse_test = math.sqrt(mse_test)\n",
    "    r2_test = r2_score(Y_test, Y_pred_test)\n",
    "    \n",
    "    print('%3d %12.4f %12.4f %12.4f %12.4f' %(k, rmse_train, r2_train, rmse_test, r2_test))"
   ]
  },
  {
   "cell_type": "code",
   "execution_count": 22,
   "metadata": {},
   "outputs": [
    {
     "name": "stdout",
     "output_type": "stream",
     "text": [
      " POLYNOMIAL REGRESSOR WITH RIDGE REGULARIZER \n",
      " \n",
      " K     RMSE TRAIN     R2 TRAIN    RMSE TEST    R2 TEST\n",
      "---    ----------     --------    ---------    -------\n",
      "  1       4.5217       0.7622       5.1420       0.6766\n",
      "  2       2.6526       0.9182       3.9817       0.8061\n",
      "  3       2.0460       0.9513       3.7026       0.8323\n"
     ]
    }
   ],
   "source": [
    "#using polynomial regressor with lasso regularizer\n",
    "\n",
    "print(' POLYNOMIAL REGRESSOR WITH RIDGE REGULARIZER \\n ')\n",
    "print(' K     RMSE TRAIN     R2 TRAIN    RMSE TEST    R2 TEST')\n",
    "print('---    ----------     --------    ---------    -------')\n",
    "\n",
    "for k in range(1,4):\n",
    "    polyFeat = PolynomialFeatures(degree = k)\n",
    "    \n",
    "    polyFeat = polyFeat.fit(X_train)\n",
    "    X_train_poly = polyFeat.transform(X_train)\n",
    "    X_test_poly = polyFeat.transform(X_test)\n",
    "    \n",
    "    regressor_lasso = Lasso(alpha = 0.1, max_iter = 100000)\n",
    "    regressor_lasso = regressor_lasso.fit(X_train_poly, Y_train)#training the model\n",
    "    \n",
    "    Y_pred_train = regressor_lasso.predict(X_train_poly)\n",
    "    Y_pred_test = regressor_lasso.predict(X_test_poly)\n",
    "    \n",
    "    #train\n",
    "    mse_train = mean_squared_error(Y_train, Y_pred_train)\n",
    "    rmse_train = math.sqrt(mse_train)\n",
    "    r2_train = r2_score(Y_train, Y_pred_train)\n",
    "    \n",
    "    #test\n",
    "    mse_test = mean_squared_error(Y_test, Y_pred_test)\n",
    "    rmse_test = math.sqrt(mse_test)\n",
    "    r2_test = r2_score(Y_test, Y_pred_test)\n",
    "    \n",
    "    print('%3d %12.4f %12.4f %12.4f %12.4f' %(k, rmse_train, r2_train, rmse_test, r2_test))"
   ]
  }
 ],
 "metadata": {
  "kernelspec": {
   "display_name": "Python 3",
   "language": "python",
   "name": "python3"
  },
  "language_info": {
   "codemirror_mode": {
    "name": "ipython",
    "version": 3
   },
   "file_extension": ".py",
   "mimetype": "text/x-python",
   "name": "python",
   "nbconvert_exporter": "python",
   "pygments_lexer": "ipython3",
   "version": "3.6.4"
  }
 },
 "nbformat": 4,
 "nbformat_minor": 4
}
