{
 "cells": [
  {
   "cell_type": "code",
   "execution_count": null,
   "metadata": {},
   "outputs": [],
   "source": [
    "import pandas as pd\n",
    "import matplotlib.pyplot as plt\n",
    "from sklearn.model_selection import train_test_split\n",
    "from sklearn.linear_model import LinearRegression\n",
    "from sklearn.metrics import mean_squared_error, r2_score\n",
    "from sklearn.neighbors import KNeighborsRegressor\n",
    "from sklearn.preprocessing import StandardScaler, MinMaxScaler, PolynomialFeatures\n",
    "import math"
   ]
  },
  {
   "cell_type": "code",
   "execution_count": null,
   "metadata": {},
   "outputs": [],
   "source": [
    "data = pd.read_excel('D02_Boston.xlsx')\n",
    "data.head()"
   ]
  },
  {
   "cell_type": "code",
   "execution_count": 3,
   "metadata": {},
   "outputs": [],
   "source": [
    "x = data.iloc[:,1:-1]\n",
    "y = data.iloc[:,-1]"
   ]
  },
  {
   "cell_type": "code",
   "execution_count": 17,
   "metadata": {},
   "outputs": [],
   "source": [
    "X_train, X_test, Y_train, Y_test = train_test_split(x,y,test_size = 200, random_state = 0)\n",
    "\n",
    "regressor = LinearRegression()\n",
    "regressor = regressor.fit(X_train, Y_train)#training the model"
   ]
  },
  {
   "cell_type": "code",
   "execution_count": 5,
   "metadata": {},
   "outputs": [],
   "source": [
    "#predictions\n",
    "Y_pred_train = regressor.predict(X_train)\n",
    "Y_pred_test = regressor.predict(X_test)"
   ]
  },
  {
   "cell_type": "code",
   "execution_count": 6,
   "metadata": {},
   "outputs": [],
   "source": [
    "#metrics\n",
    "mse_train = mean_squared_error(Y_train, Y_pred_train)\n",
    "rmse_train = math.sqrt(mse_train)\n",
    "r2_train = r2_score(Y_train, Y_pred_train)\n",
    "\n",
    "mse_test = mean_squared_error(Y_test, Y_pred_test)\n",
    "rmse_test = math.sqrt(mse_test)\n",
    "r2_test = r2_score(Y_test, Y_pred_test)"
   ]
  },
  {
   "cell_type": "code",
   "execution_count": 7,
   "metadata": {},
   "outputs": [
    {
     "name": "stdout",
     "output_type": "stream",
     "text": [
      "Metrics in train datased:\n",
      "rmse 4.4738 r2 0.7672 \n",
      "\n",
      "Metrics in test datased:\n",
      "rmse 5.0739 r2 0.6851 \n",
      "\n"
     ]
    }
   ],
   "source": [
    "print('Metrics in train datased:')\n",
    "print('rmse %.4f'%rmse_train, 'r2 %.4f'%r2_train,'\\n')\n",
    "print('Metrics in test datased:')\n",
    "print('rmse %.4f'%rmse_test, 'r2 %.4f'%r2_test,'\\n')"
   ]
  },
  {
   "cell_type": "code",
   "execution_count": 8,
   "metadata": {},
   "outputs": [
    {
     "data": {
      "text/plain": [
       "<matplotlib.collections.PathCollection at 0x20d271152c8>"
      ]
     },
     "execution_count": 8,
     "metadata": {},
     "output_type": "execute_result"
    },
    {
     "data": {
      "image/png": "[encoded data removed]",
      "text/plain": [
       "<Figure size 432x288 with 1 Axes>"
      ]
     },
     "metadata": {
      "needs_background": "light"
     },
     "output_type": "display_data"
    }
   ],
   "source": [
    "plt.scatter(x = Y_test, y = Y_pred_test)"
   ]
  },
  {
   "cell_type": "code",
   "execution_count": 9,
   "metadata": {},
   "outputs": [],
   "source": [
    "#adjusting the scale of attributes\n",
    "transformer = StandardScaler()\n",
    "transformer.fit(X_train)\n",
    "X_train = transformer.transform(X_train)\n",
    "X_test = transformer.transform(X_test)"
   ]
  },
  {
   "cell_type": "code",
   "execution_count": 18,
   "metadata": {},
   "outputs": [
    {
     "name": "stdout",
     "output_type": "stream",
     "text": [
      " POLYNOMIAL REGRESSOR \n",
      " \n",
      " K     RMSE TRAIN     R2 TRAIN    RMSE TEST    R2 TEST\n",
      "---    ----------     --------    ---------    -------\n",
      "  1       4.4738       0.7672       5.0739       0.6851\n",
      "  2       2.0887       0.9493       4.5581       0.7459\n",
      "  3       0.0000       1.0000     110.4396    -148.1828\n",
      "  4       0.0000       1.0000     110.1103    -147.2945\n",
      "  5       0.0000       1.0000     503.8598   -3104.1917\n"
     ]
    }
   ],
   "source": [
    "#using polynomial regressor \n",
    "\n",
    "print(' POLYNOMIAL REGRESSOR \\n ')\n",
    "print(' K     RMSE TRAIN     R2 TRAIN    RMSE TEST    R2 TEST')\n",
    "print('---    ----------     --------    ---------    -------')\n",
    "\n",
    "for k in range(1,6):\n",
    "    polyFeat = PolynomialFeatures(degree = k)\n",
    "    \n",
    "    polyFeat = polyFeat.fit(X_train)\n",
    "    X_train_poly = polyFeat.transform(X_train)\n",
    "    X_test_poly = polyFeat.transform(X_test)\n",
    "    \n",
    "    regressor = LinearRegression()\n",
    "    regressor = regressor.fit(X_train_poly, Y_train)#training the model\n",
    "    \n",
    "    Y_pred_train = regressor.predict(X_train_poly)\n",
    "    Y_pred_test = regressor.predict(X_test_poly)\n",
    "    \n",
    "    #train\n",
    "    mse_train = mean_squared_error(Y_train, Y_pred_train)\n",
    "    rmse_train = math.sqrt(mse_train)\n",
    "    r2_train = r2_score(Y_train, Y_pred_train)\n",
    "    \n",
    "    #test\n",
    "    mse_test = mean_squared_error(Y_test, Y_pred_test)\n",
    "    rmse_test = math.sqrt(mse_test)\n",
    "    r2_test = r2_score(Y_test, Y_pred_test)\n",
    "    \n",
    "    print('%3d %12.4f %12.4f %12.4f %12.4f' %(k, rmse_train, r2_train, rmse_test, r2_test))"
   ]
  }
 ],
 "metadata": {
  "kernelspec": {
   "display_name": "Python 3",
   "language": "python",
   "name": "python3"
  },
  "language_info": {
   "codemirror_mode": {
    "name": "ipython",
    "version": 3
   },
   "file_extension": ".py",
   "mimetype": "text/x-python",
   "name": "python",
   "nbconvert_exporter": "python",
   "pygments_lexer": "ipython3",
   "version": "3.7.6"
  }
 },
 "nbformat": 4,
 "nbformat_minor": 4
}
